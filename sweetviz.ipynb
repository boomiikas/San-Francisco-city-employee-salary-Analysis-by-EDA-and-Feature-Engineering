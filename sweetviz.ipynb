{
 "cells": [
  {
   "cell_type": "code",
   "execution_count": 9,
   "id": "c35b11e4",
   "metadata": {},
   "outputs": [
    {
     "name": "stdout",
     "output_type": "stream",
     "text": [
      "Requirement already satisfied: sweetviz in c:\\users\\boomi\\anaconda3\\envs\\pyai\\lib\\site-packages (2.3.1)\n",
      "Requirement already satisfied: pandas!=1.0.0,!=1.0.1,!=1.0.2,>=0.25.3 in c:\\users\\boomi\\anaconda3\\envs\\pyai\\lib\\site-packages (from sweetviz) (2.3.1)\n",
      "Requirement already satisfied: numpy>=1.16.0 in c:\\users\\boomi\\anaconda3\\envs\\pyai\\lib\\site-packages (from sweetviz) (1.26.4)\n",
      "Requirement already satisfied: matplotlib>=3.1.3 in c:\\users\\boomi\\anaconda3\\envs\\pyai\\lib\\site-packages (from sweetviz) (3.10.0)\n",
      "Requirement already satisfied: tqdm>=4.43.0 in c:\\users\\boomi\\anaconda3\\envs\\pyai\\lib\\site-packages (from sweetviz) (4.67.1)\n",
      "Requirement already satisfied: scipy>=1.3.2 in c:\\users\\boomi\\anaconda3\\envs\\pyai\\lib\\site-packages (from sweetviz) (1.13.1)\n",
      "Requirement already satisfied: jinja2>=2.11.1 in c:\\users\\boomi\\anaconda3\\envs\\pyai\\lib\\site-packages (from sweetviz) (3.1.6)\n",
      "Requirement already satisfied: importlib-resources>=1.2.0 in c:\\users\\boomi\\anaconda3\\envs\\pyai\\lib\\site-packages (from sweetviz) (6.5.2)\n",
      "Requirement already satisfied: MarkupSafe>=2.0 in c:\\users\\boomi\\anaconda3\\envs\\pyai\\lib\\site-packages (from jinja2>=2.11.1->sweetviz) (3.0.2)\n",
      "Requirement already satisfied: contourpy>=1.0.1 in c:\\users\\boomi\\anaconda3\\envs\\pyai\\lib\\site-packages (from matplotlib>=3.1.3->sweetviz) (1.3.1)\n",
      "Requirement already satisfied: cycler>=0.10 in c:\\users\\boomi\\anaconda3\\envs\\pyai\\lib\\site-packages (from matplotlib>=3.1.3->sweetviz) (0.11.0)\n",
      "Requirement already satisfied: fonttools>=4.22.0 in c:\\users\\boomi\\anaconda3\\envs\\pyai\\lib\\site-packages (from matplotlib>=3.1.3->sweetviz) (4.55.3)\n",
      "Requirement already satisfied: kiwisolver>=1.3.1 in c:\\users\\boomi\\anaconda3\\envs\\pyai\\lib\\site-packages (from matplotlib>=3.1.3->sweetviz) (1.4.8)\n",
      "Requirement already satisfied: packaging>=20.0 in c:\\users\\boomi\\anaconda3\\envs\\pyai\\lib\\site-packages (from matplotlib>=3.1.3->sweetviz) (25.0)\n",
      "Requirement already satisfied: pillow>=8 in c:\\users\\boomi\\anaconda3\\envs\\pyai\\lib\\site-packages (from matplotlib>=3.1.3->sweetviz) (11.3.0)\n",
      "Requirement already satisfied: pyparsing>=2.3.1 in c:\\users\\boomi\\anaconda3\\envs\\pyai\\lib\\site-packages (from matplotlib>=3.1.3->sweetviz) (3.2.0)\n",
      "Requirement already satisfied: python-dateutil>=2.7 in c:\\users\\boomi\\anaconda3\\envs\\pyai\\lib\\site-packages (from matplotlib>=3.1.3->sweetviz) (2.9.0.post0)\n",
      "Requirement already satisfied: pytz>=2020.1 in c:\\users\\boomi\\anaconda3\\envs\\pyai\\lib\\site-packages (from pandas!=1.0.0,!=1.0.1,!=1.0.2,>=0.25.3->sweetviz) (2025.2)\n",
      "Requirement already satisfied: tzdata>=2022.7 in c:\\users\\boomi\\anaconda3\\envs\\pyai\\lib\\site-packages (from pandas!=1.0.0,!=1.0.1,!=1.0.2,>=0.25.3->sweetviz) (2025.2)\n",
      "Requirement already satisfied: six>=1.5 in c:\\users\\boomi\\anaconda3\\envs\\pyai\\lib\\site-packages (from python-dateutil>=2.7->matplotlib>=3.1.3->sweetviz) (1.17.0)\n",
      "Requirement already satisfied: colorama in c:\\users\\boomi\\anaconda3\\envs\\pyai\\lib\\site-packages (from tqdm>=4.43.0->sweetviz) (0.4.6)\n",
      "Note: you may need to restart the kernel to use updated packages.\n"
     ]
    }
   ],
   "source": [
    "%pip install sweetviz"
   ]
  },
  {
   "cell_type": "code",
   "execution_count": 2,
   "id": "8404cf82",
   "metadata": {},
   "outputs": [
    {
     "name": "stderr",
     "output_type": "stream",
     "text": [
      "C:\\Users\\boomi\\AppData\\Local\\Temp\\ipykernel_13156\\2329235222.py:3: DtypeWarning: Columns (3,4,5,6,12) have mixed types. Specify dtype option on import or set low_memory=False.\n",
      "  df = pd.read_csv(\"Salaries.csv\")\n"
     ]
    }
   ],
   "source": [
    "import sweetviz as sv\n",
    "import pandas as pd\n",
    "df = pd.read_csv(\"Salaries.csv\")"
   ]
  },
  {
   "cell_type": "code",
   "execution_count": 3,
   "id": "8d4b1eda",
   "metadata": {},
   "outputs": [],
   "source": [
    "df.drop('Notes', axis=1, inplace=True)\n",
    "df = df.dropna(subset=['BasePay'])"
   ]
  },
  {
   "cell_type": "code",
   "execution_count": 4,
   "id": "b2c97cea",
   "metadata": {},
   "outputs": [],
   "source": [
    "df['Status'] = df['Status'].fillna('Unknown')  \n",
    "df['Benefits'] = pd.to_numeric(df['Benefits'], errors='coerce')\n",
    "df['Benefits'] = df['Benefits'].fillna(df['Benefits'].median())"
   ]
  },
  {
   "cell_type": "code",
   "execution_count": 5,
   "id": "e1a8c84f",
   "metadata": {},
   "outputs": [
    {
     "name": "stderr",
     "output_type": "stream",
     "text": [
      "<>:1: SyntaxWarning: invalid escape sequence '\\$'\n",
      "<>:1: SyntaxWarning: invalid escape sequence '\\$'\n",
      "C:\\Users\\boomi\\AppData\\Local\\Temp\\ipykernel_13156\\3728071403.py:1: SyntaxWarning: invalid escape sequence '\\$'\n",
      "  df['BasePay'] = df['BasePay'].astype(str).str.replace('[\\$,]', '', regex=True).str.strip()\n"
     ]
    }
   ],
   "source": [
    "df['BasePay'] = df['BasePay'].astype(str).str.replace('[\\$,]', '', regex=True).str.strip()\n",
    "df['BasePay'] = pd.to_numeric(df['BasePay'], errors='coerce')\n",
    "df['BasePay'] = df['BasePay'].fillna(df['BasePay'].median())"
   ]
  },
  {
   "cell_type": "code",
   "execution_count": 6,
   "id": "e0f4b7e0",
   "metadata": {},
   "outputs": [
    {
     "name": "stderr",
     "output_type": "stream",
     "text": [
      "<>:1: SyntaxWarning: invalid escape sequence '\\$'\n",
      "<>:1: SyntaxWarning: invalid escape sequence '\\$'\n",
      "C:\\Users\\boomi\\AppData\\Local\\Temp\\ipykernel_13156\\20486720.py:1: SyntaxWarning: invalid escape sequence '\\$'\n",
      "  df['OvertimePay'] = df['OvertimePay'].astype(str).str.replace('[\\$,]', '', regex=True).str.strip()\n"
     ]
    }
   ],
   "source": [
    "df['OvertimePay'] = df['OvertimePay'].astype(str).str.replace('[\\$,]', '', regex=True).str.strip()\n",
    "df['OvertimePay'] = pd.to_numeric(df['OvertimePay'], errors='coerce')\n",
    "df['OvertimePay'] = df['OvertimePay'].fillna(df['OvertimePay'].median())"
   ]
  },
  {
   "cell_type": "code",
   "execution_count": 7,
   "id": "81beb049",
   "metadata": {},
   "outputs": [
    {
     "name": "stderr",
     "output_type": "stream",
     "text": [
      "<>:1: SyntaxWarning: invalid escape sequence '\\$'\n",
      "<>:1: SyntaxWarning: invalid escape sequence '\\$'\n",
      "C:\\Users\\boomi\\AppData\\Local\\Temp\\ipykernel_13156\\3750694398.py:1: SyntaxWarning: invalid escape sequence '\\$'\n",
      "  df['OtherPay'] = df['OtherPay'].astype(str).str.replace('[\\$,]', '', regex=True).str.strip()\n"
     ]
    }
   ],
   "source": [
    "df['OtherPay'] = df['OtherPay'].astype(str).str.replace('[\\$,]', '', regex=True).str.strip()\n",
    "df['OtherPay'] = pd.to_numeric(df['OtherPay'], errors='coerce')\n",
    "df['OtherPay'] = df['OtherPay'].fillna(df['OtherPay'].median())"
   ]
  },
  {
   "cell_type": "code",
   "execution_count": 8,
   "id": "964ac1aa",
   "metadata": {},
   "outputs": [
    {
     "data": {
      "application/vnd.jupyter.widget-view+json": {
       "model_id": "1ca1ed6f98bd4f5696c49a042b7e2c34",
       "version_major": 2,
       "version_minor": 0
      },
      "text/plain": [
       "                                             |          | [  0%]   00:00 -> (? left)"
      ]
     },
     "metadata": {},
     "output_type": "display_data"
    },
    {
     "name": "stdout",
     "output_type": "stream",
     "text": [
      "Report salaries_sweetviz_report.html was generated! NOTEBOOK/COLAB USERS: the web browser MAY not pop up, regardless, the report IS saved in your notebook/colab files.\n"
     ]
    }
   ],
   "source": [
    "report = sv.analyze(df)\n",
    "report.show_html(\"salaries_sweetviz_report.html\")"
   ]
  }
 ],
 "metadata": {
  "kernelspec": {
   "display_name": "pyai",
   "language": "python",
   "name": "python3"
  },
  "language_info": {
   "codemirror_mode": {
    "name": "ipython",
    "version": 3
   },
   "file_extension": ".py",
   "mimetype": "text/x-python",
   "name": "python",
   "nbconvert_exporter": "python",
   "pygments_lexer": "ipython3",
   "version": "3.12.11"
  }
 },
 "nbformat": 4,
 "nbformat_minor": 5
}
